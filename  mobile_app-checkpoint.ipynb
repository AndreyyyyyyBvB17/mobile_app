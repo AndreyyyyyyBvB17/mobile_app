{
 "cells": [
  {
   "cell_type": "markdown",
   "id": "a692e1f1",
   "metadata": {},
   "source": [
    "### Вступление"
   ]
  },
  {
   "cell_type": "markdown",
   "id": "1453eccd",
   "metadata": {},
   "source": [
    "**Название проекта**: Изучение поведения пользователей мобильного приложения и принятие решений для бизнеса на основе А/А/В тестирования.   \n",
    "    \n",
    "**Описание проекта**: Необходимо провести изучение и проверку данных, а так же воронку событий, проанализировать результаты на основании А/А/В тестирования, выяснить влияет ли изменение шрифтов на пользователей.\n",
    "    \n",
    "**Цель проекта**: Разобраться как ведут себя пользователи мобильного приложения и выяснить какой шрифт лучше.\n",
    "\n",
    "**Описание данных**:\n",
    "\n",
    "- EventName — название события;\n",
    "- DeviceIDHash — уникальный идентификатор пользователя;\n",
    "- EventTimestamp — время события;\n",
    "- ExpId — номер эксперимента: 246 и 247 — контрольные группы, а 248 — экспериментальная."
   ]
  },
  {
   "cell_type": "markdown",
   "id": "6b077f80",
   "metadata": {},
   "source": [
    "### Загрузка и подготовка данных"
   ]
  },
  {
   "cell_type": "code",
   "execution_count": 1,
   "id": "df8f2800",
   "metadata": {},
   "outputs": [],
   "source": [
    "#Импортируем необходимые библиотеки\n",
    "import pandas as pd\n",
    "import numpy as np\n",
    "import matplotlib.pyplot as plt\n",
    "from scipy import stats as st\n",
    "import math as mth"
   ]
  },
  {
   "cell_type": "code",
   "execution_count": 2,
   "id": "d355504f",
   "metadata": {},
   "outputs": [],
   "source": [
    "#Загрузим данные\n",
    "logs = pd.read_csv(r'D:\\Аналитика\\Аналитик данных\\Dataset\\logs_exp.csv', sep='\\t')\n",
    "pd.set_option('display.max_columns', None)\n",
    "pd.set_option('display.max_colwidth', None)"
   ]
  },
  {
   "cell_type": "code",
   "execution_count": 3,
   "id": "0361ecd7",
   "metadata": {},
   "outputs": [
    {
     "data": {
      "text/html": [
       "<div>\n",
       "<style scoped>\n",
       "    .dataframe tbody tr th:only-of-type {\n",
       "        vertical-align: middle;\n",
       "    }\n",
       "\n",
       "    .dataframe tbody tr th {\n",
       "        vertical-align: top;\n",
       "    }\n",
       "\n",
       "    .dataframe thead th {\n",
       "        text-align: right;\n",
       "    }\n",
       "</style>\n",
       "<table border=\"1\" class=\"dataframe\">\n",
       "  <thead>\n",
       "    <tr style=\"text-align: right;\">\n",
       "      <th></th>\n",
       "      <th>EventName</th>\n",
       "      <th>DeviceIDHash</th>\n",
       "      <th>EventTimestamp</th>\n",
       "      <th>ExpId</th>\n",
       "    </tr>\n",
       "  </thead>\n",
       "  <tbody>\n",
       "    <tr>\n",
       "      <th>0</th>\n",
       "      <td>MainScreenAppear</td>\n",
       "      <td>4575588528974610257</td>\n",
       "      <td>1564029816</td>\n",
       "      <td>246</td>\n",
       "    </tr>\n",
       "    <tr>\n",
       "      <th>1</th>\n",
       "      <td>MainScreenAppear</td>\n",
       "      <td>7416695313311560658</td>\n",
       "      <td>1564053102</td>\n",
       "      <td>246</td>\n",
       "    </tr>\n",
       "    <tr>\n",
       "      <th>2</th>\n",
       "      <td>PaymentScreenSuccessful</td>\n",
       "      <td>3518123091307005509</td>\n",
       "      <td>1564054127</td>\n",
       "      <td>248</td>\n",
       "    </tr>\n",
       "    <tr>\n",
       "      <th>3</th>\n",
       "      <td>CartScreenAppear</td>\n",
       "      <td>3518123091307005509</td>\n",
       "      <td>1564054127</td>\n",
       "      <td>248</td>\n",
       "    </tr>\n",
       "    <tr>\n",
       "      <th>4</th>\n",
       "      <td>PaymentScreenSuccessful</td>\n",
       "      <td>6217807653094995999</td>\n",
       "      <td>1564055322</td>\n",
       "      <td>248</td>\n",
       "    </tr>\n",
       "  </tbody>\n",
       "</table>\n",
       "</div>"
      ],
      "text/plain": [
       "                 EventName         DeviceIDHash  EventTimestamp  ExpId\n",
       "0         MainScreenAppear  4575588528974610257      1564029816    246\n",
       "1         MainScreenAppear  7416695313311560658      1564053102    246\n",
       "2  PaymentScreenSuccessful  3518123091307005509      1564054127    248\n",
       "3         CartScreenAppear  3518123091307005509      1564054127    248\n",
       "4  PaymentScreenSuccessful  6217807653094995999      1564055322    248"
      ]
     },
     "metadata": {},
     "output_type": "display_data"
    }
   ],
   "source": [
    "#Посмотрим выгрузку\n",
    "display(logs.head())"
   ]
  },
  {
   "cell_type": "code",
   "execution_count": 4,
   "id": "3d7f36c1",
   "metadata": {},
   "outputs": [
    {
     "name": "stdout",
     "output_type": "stream",
     "text": [
      "<class 'pandas.core.frame.DataFrame'>\n",
      "RangeIndex: 244126 entries, 0 to 244125\n",
      "Data columns (total 4 columns):\n",
      " #   Column          Non-Null Count   Dtype \n",
      "---  ------          --------------   ----- \n",
      " 0   EventName       244126 non-null  object\n",
      " 1   DeviceIDHash    244126 non-null  int64 \n",
      " 2   EventTimestamp  244126 non-null  int64 \n",
      " 3   ExpId           244126 non-null  int64 \n",
      "dtypes: int64(3), object(1)\n",
      "memory usage: 7.5+ MB\n"
     ]
    }
   ],
   "source": [
    "logs.info()"
   ]
  },
  {
   "cell_type": "code",
   "execution_count": 5,
   "id": "ecc429ea",
   "metadata": {},
   "outputs": [
    {
     "data": {
      "text/plain": [
       "array(['MainScreenAppear', 'PaymentScreenSuccessful', 'CartScreenAppear',\n",
       "       'OffersScreenAppear', 'Tutorial'], dtype=object)"
      ]
     },
     "metadata": {},
     "output_type": "display_data"
    },
    {
     "data": {
      "text/plain": [
       "array([4575588528974610257, 7416695313311560658, 3518123091307005509, ...,\n",
       "       6660805781687343085, 7823752606740475984, 3454683894921357834],\n",
       "      dtype=int64)"
      ]
     },
     "metadata": {},
     "output_type": "display_data"
    },
    {
     "data": {
      "text/plain": [
       "array([1564029816, 1564053102, 1564054127, ..., 1565212483, 1565212498,\n",
       "       1565212517], dtype=int64)"
      ]
     },
     "metadata": {},
     "output_type": "display_data"
    },
    {
     "data": {
      "text/plain": [
       "array([246, 248, 247], dtype=int64)"
      ]
     },
     "metadata": {},
     "output_type": "display_data"
    }
   ],
   "source": [
    "#Смотрим уникальные данные\n",
    "for i in logs:\n",
    "    display(logs[i].unique())"
   ]
  },
  {
   "cell_type": "markdown",
   "id": "bf2d368d",
   "metadata": {},
   "source": [
    "### Предобработка данных."
   ]
  },
  {
   "cell_type": "code",
   "execution_count": 6,
   "id": "574631ee",
   "metadata": {},
   "outputs": [
    {
     "name": "stdout",
     "output_type": "stream",
     "text": [
      "413\n"
     ]
    }
   ],
   "source": [
    "#Проверим данные на дубликаты\n",
    "print(logs.duplicated().sum())"
   ]
  },
  {
   "cell_type": "code",
   "execution_count": 7,
   "id": "bce7043d",
   "metadata": {},
   "outputs": [
    {
     "name": "stdout",
     "output_type": "stream",
     "text": [
      "EventName         0\n",
      "DeviceIDHash      0\n",
      "EventTimestamp    0\n",
      "ExpId             0\n",
      "dtype: int64\n"
     ]
    }
   ],
   "source": [
    "#Проверим пропущенные данные\n",
    "print(logs.isna().sum())"
   ]
  },
  {
   "cell_type": "code",
   "execution_count": 8,
   "id": "e362aa54",
   "metadata": {},
   "outputs": [
    {
     "data": {
      "text/plain": [
       "Index(['EventName', 'DeviceIDHash', 'EventTimestamp', 'ExpId'], dtype='object')"
      ]
     },
     "execution_count": 8,
     "metadata": {},
     "output_type": "execute_result"
    }
   ],
   "source": [
    "#Проверим корректно ли названы столбцы\n",
    "logs.columns"
   ]
  },
  {
   "cell_type": "code",
   "execution_count": 9,
   "id": "c1959848",
   "metadata": {},
   "outputs": [],
   "source": [
    "#Приведем названия столбцов к общему формату.\n",
    "logs.columns = ['eventname', 'device_id_hash', 'eventtimestamp', 'expid']"
   ]
  },
  {
   "cell_type": "code",
   "execution_count": 10,
   "id": "202017d7",
   "metadata": {},
   "outputs": [
    {
     "data": {
      "text/plain": [
       "Index(['eventname', 'device_id_hash', 'eventtimestamp', 'expid'], dtype='object')"
      ]
     },
     "execution_count": 10,
     "metadata": {},
     "output_type": "execute_result"
    }
   ],
   "source": [
    "logs.columns"
   ]
  },
  {
   "cell_type": "code",
   "execution_count": 11,
   "id": "8c26e369",
   "metadata": {},
   "outputs": [],
   "source": [
    "#Добавляем столбец даты и времени, а также отдельный столбец дат.\n",
    "logs['eventtimestamp'] = pd.to_datetime(logs['eventtimestamp'], unit = 's')\n",
    "logs['date'] = pd.to_datetime(logs['eventtimestamp'].dt.date)"
   ]
  },
  {
   "cell_type": "code",
   "execution_count": 12,
   "id": "a39b4ce8",
   "metadata": {},
   "outputs": [
    {
     "data": {
      "text/html": [
       "<div>\n",
       "<style scoped>\n",
       "    .dataframe tbody tr th:only-of-type {\n",
       "        vertical-align: middle;\n",
       "    }\n",
       "\n",
       "    .dataframe tbody tr th {\n",
       "        vertical-align: top;\n",
       "    }\n",
       "\n",
       "    .dataframe thead th {\n",
       "        text-align: right;\n",
       "    }\n",
       "</style>\n",
       "<table border=\"1\" class=\"dataframe\">\n",
       "  <thead>\n",
       "    <tr style=\"text-align: right;\">\n",
       "      <th></th>\n",
       "      <th>eventname</th>\n",
       "      <th>device_id_hash</th>\n",
       "      <th>eventtimestamp</th>\n",
       "      <th>expid</th>\n",
       "      <th>date</th>\n",
       "    </tr>\n",
       "  </thead>\n",
       "  <tbody>\n",
       "    <tr>\n",
       "      <th>0</th>\n",
       "      <td>MainScreenAppear</td>\n",
       "      <td>4575588528974610257</td>\n",
       "      <td>2019-07-25 04:43:36</td>\n",
       "      <td>246</td>\n",
       "      <td>2019-07-25</td>\n",
       "    </tr>\n",
       "    <tr>\n",
       "      <th>1</th>\n",
       "      <td>MainScreenAppear</td>\n",
       "      <td>7416695313311560658</td>\n",
       "      <td>2019-07-25 11:11:42</td>\n",
       "      <td>246</td>\n",
       "      <td>2019-07-25</td>\n",
       "    </tr>\n",
       "    <tr>\n",
       "      <th>2</th>\n",
       "      <td>PaymentScreenSuccessful</td>\n",
       "      <td>3518123091307005509</td>\n",
       "      <td>2019-07-25 11:28:47</td>\n",
       "      <td>248</td>\n",
       "      <td>2019-07-25</td>\n",
       "    </tr>\n",
       "    <tr>\n",
       "      <th>3</th>\n",
       "      <td>CartScreenAppear</td>\n",
       "      <td>3518123091307005509</td>\n",
       "      <td>2019-07-25 11:28:47</td>\n",
       "      <td>248</td>\n",
       "      <td>2019-07-25</td>\n",
       "    </tr>\n",
       "    <tr>\n",
       "      <th>4</th>\n",
       "      <td>PaymentScreenSuccessful</td>\n",
       "      <td>6217807653094995999</td>\n",
       "      <td>2019-07-25 11:48:42</td>\n",
       "      <td>248</td>\n",
       "      <td>2019-07-25</td>\n",
       "    </tr>\n",
       "    <tr>\n",
       "      <th>5</th>\n",
       "      <td>CartScreenAppear</td>\n",
       "      <td>6217807653094995999</td>\n",
       "      <td>2019-07-25 11:48:43</td>\n",
       "      <td>248</td>\n",
       "      <td>2019-07-25</td>\n",
       "    </tr>\n",
       "    <tr>\n",
       "      <th>6</th>\n",
       "      <td>OffersScreenAppear</td>\n",
       "      <td>8351860793733343758</td>\n",
       "      <td>2019-07-25 14:50:42</td>\n",
       "      <td>246</td>\n",
       "      <td>2019-07-25</td>\n",
       "    </tr>\n",
       "    <tr>\n",
       "      <th>7</th>\n",
       "      <td>MainScreenAppear</td>\n",
       "      <td>5682100281902512875</td>\n",
       "      <td>2019-07-25 20:14:37</td>\n",
       "      <td>246</td>\n",
       "      <td>2019-07-25</td>\n",
       "    </tr>\n",
       "    <tr>\n",
       "      <th>8</th>\n",
       "      <td>MainScreenAppear</td>\n",
       "      <td>1850981295691852772</td>\n",
       "      <td>2019-07-25 20:31:42</td>\n",
       "      <td>247</td>\n",
       "      <td>2019-07-25</td>\n",
       "    </tr>\n",
       "    <tr>\n",
       "      <th>9</th>\n",
       "      <td>MainScreenAppear</td>\n",
       "      <td>5407636962369102641</td>\n",
       "      <td>2019-07-26 03:35:12</td>\n",
       "      <td>246</td>\n",
       "      <td>2019-07-26</td>\n",
       "    </tr>\n",
       "  </tbody>\n",
       "</table>\n",
       "</div>"
      ],
      "text/plain": [
       "                 eventname       device_id_hash      eventtimestamp  expid  \\\n",
       "0         MainScreenAppear  4575588528974610257 2019-07-25 04:43:36    246   \n",
       "1         MainScreenAppear  7416695313311560658 2019-07-25 11:11:42    246   \n",
       "2  PaymentScreenSuccessful  3518123091307005509 2019-07-25 11:28:47    248   \n",
       "3         CartScreenAppear  3518123091307005509 2019-07-25 11:28:47    248   \n",
       "4  PaymentScreenSuccessful  6217807653094995999 2019-07-25 11:48:42    248   \n",
       "5         CartScreenAppear  6217807653094995999 2019-07-25 11:48:43    248   \n",
       "6       OffersScreenAppear  8351860793733343758 2019-07-25 14:50:42    246   \n",
       "7         MainScreenAppear  5682100281902512875 2019-07-25 20:14:37    246   \n",
       "8         MainScreenAppear  1850981295691852772 2019-07-25 20:31:42    247   \n",
       "9         MainScreenAppear  5407636962369102641 2019-07-26 03:35:12    246   \n",
       "\n",
       "        date  \n",
       "0 2019-07-25  \n",
       "1 2019-07-25  \n",
       "2 2019-07-25  \n",
       "3 2019-07-25  \n",
       "4 2019-07-25  \n",
       "5 2019-07-25  \n",
       "6 2019-07-25  \n",
       "7 2019-07-25  \n",
       "8 2019-07-25  \n",
       "9 2019-07-26  "
      ]
     },
     "metadata": {},
     "output_type": "display_data"
    }
   ],
   "source": [
    "display(logs.head(10))"
   ]
  },
  {
   "cell_type": "code",
   "execution_count": 13,
   "id": "2300a306",
   "metadata": {},
   "outputs": [
    {
     "name": "stdout",
     "output_type": "stream",
     "text": [
      "<class 'pandas.core.frame.DataFrame'>\n",
      "RangeIndex: 244126 entries, 0 to 244125\n",
      "Data columns (total 5 columns):\n",
      " #   Column          Non-Null Count   Dtype         \n",
      "---  ------          --------------   -----         \n",
      " 0   eventname       244126 non-null  object        \n",
      " 1   device_id_hash  244126 non-null  int64         \n",
      " 2   eventtimestamp  244126 non-null  datetime64[ns]\n",
      " 3   expid           244126 non-null  int64         \n",
      " 4   date            244126 non-null  datetime64[ns]\n",
      "dtypes: datetime64[ns](2), int64(2), object(1)\n",
      "memory usage: 9.3+ MB\n"
     ]
    }
   ],
   "source": [
    "logs.info()"
   ]
  },
  {
   "cell_type": "code",
   "execution_count": 14,
   "id": "bc265e9e",
   "metadata": {},
   "outputs": [],
   "source": [
    "#Поменяем название столбцов, expid оставим как есть.\n",
    "logs = logs.rename(columns = {'eventname':'event', 'device_id_hash':'id', 'eventtimestamp':'time'})"
   ]
  },
  {
   "cell_type": "code",
   "execution_count": 15,
   "id": "1a45561b",
   "metadata": {},
   "outputs": [
    {
     "name": "stdout",
     "output_type": "stream",
     "text": [
      "<class 'pandas.core.frame.DataFrame'>\n",
      "RangeIndex: 244126 entries, 0 to 244125\n",
      "Data columns (total 5 columns):\n",
      " #   Column  Non-Null Count   Dtype         \n",
      "---  ------  --------------   -----         \n",
      " 0   event   244126 non-null  object        \n",
      " 1   id      244126 non-null  int64         \n",
      " 2   time    244126 non-null  datetime64[ns]\n",
      " 3   expid   244126 non-null  int64         \n",
      " 4   date    244126 non-null  datetime64[ns]\n",
      "dtypes: datetime64[ns](2), int64(2), object(1)\n",
      "memory usage: 9.3+ MB\n"
     ]
    }
   ],
   "source": [
    "logs.info()"
   ]
  },
  {
   "cell_type": "code",
   "execution_count": 16,
   "id": "f8f4aa7e",
   "metadata": {},
   "outputs": [
    {
     "name": "stdout",
     "output_type": "stream",
     "text": [
      "0.17%\n"
     ]
    }
   ],
   "source": [
    "#Проверим процент дубликатов.\n",
    "print((100 * logs.duplicated().sum() / len(logs)).round(2).astype('str') + '%')"
   ]
  },
  {
   "cell_type": "code",
   "execution_count": 17,
   "id": "c6d15c88",
   "metadata": {},
   "outputs": [],
   "source": [
    "#Удалим дубликаты\n",
    "logs = logs.drop_duplicates().reset_index(drop = True)"
   ]
  },
  {
   "cell_type": "code",
   "execution_count": 18,
   "id": "6ec637b5",
   "metadata": {},
   "outputs": [
    {
     "name": "stdout",
     "output_type": "stream",
     "text": [
      "<class 'pandas.core.frame.DataFrame'>\n",
      "RangeIndex: 243713 entries, 0 to 243712\n",
      "Data columns (total 5 columns):\n",
      " #   Column  Non-Null Count   Dtype         \n",
      "---  ------  --------------   -----         \n",
      " 0   event   243713 non-null  object        \n",
      " 1   id      243713 non-null  int64         \n",
      " 2   time    243713 non-null  datetime64[ns]\n",
      " 3   expid   243713 non-null  int64         \n",
      " 4   date    243713 non-null  datetime64[ns]\n",
      "dtypes: datetime64[ns](2), int64(2), object(1)\n",
      "memory usage: 9.3+ MB\n"
     ]
    }
   ],
   "source": [
    "logs.info()"
   ]
  },
  {
   "cell_type": "code",
   "execution_count": 19,
   "id": "f689e5c1",
   "metadata": {},
   "outputs": [
    {
     "name": "stdout",
     "output_type": "stream",
     "text": [
      "expid    0\n",
      "dtype: int64\n"
     ]
    }
   ],
   "source": [
    "#Проверим пересечения пользователей в группах.\n",
    "print(logs.groupby('id').agg({'expid':'nunique'}).query('expid > 1').count())"
   ]
  },
  {
   "cell_type": "markdown",
   "id": "72eee288",
   "metadata": {},
   "source": [
    "В ходе обзора и предобработки данных критических аномалий не выявлено. Были произведены следующие поправки: 1.Названия столбцов приведены к общему формату и переименованны . 2.Была произведена проверка на дубликаты(удалены) и пропуски 3.Измены типы данных в столбцах. 4. Проверили пересечения пользователей в группах. 5. Добавили столбец с датой."
   ]
  },
  {
   "cell_type": "markdown",
   "id": "b3c1c442",
   "metadata": {},
   "source": [
    "### Изучаем и проверяем данные"
   ]
  },
  {
   "cell_type": "code",
   "execution_count": 20,
   "id": "9a701f17",
   "metadata": {},
   "outputs": [
    {
     "name": "stdout",
     "output_type": "stream",
     "text": [
      "Количество событий:  243713\n"
     ]
    }
   ],
   "source": [
    "#Проверяем количество событий в логе.\n",
    "print('Количество событий: ', logs['event'].count())"
   ]
  },
  {
   "cell_type": "code",
   "execution_count": 21,
   "id": "2cac36c0",
   "metadata": {},
   "outputs": [
    {
     "name": "stdout",
     "output_type": "stream",
     "text": [
      "Количество пользователей:  7551\n"
     ]
    }
   ],
   "source": [
    "#Проверяем количество пользователей в логе.\n",
    "print('Количество пользователей: ', logs['id'].nunique())"
   ]
  },
  {
   "cell_type": "code",
   "execution_count": 22,
   "id": "dfc1a678",
   "metadata": {},
   "outputs": [
    {
     "name": "stdout",
     "output_type": "stream",
     "text": [
      "Количество событий на пользователя:  32.0\n"
     ]
    }
   ],
   "source": [
    "#Проверяем сколько событий приходится на пользователя.\n",
    "print('Количество событий на пользователя: ', (logs['event'].count() / logs['id'].nunique()).round(0))"
   ]
  },
  {
   "cell_type": "code",
   "execution_count": 23,
   "id": "0b0062c9",
   "metadata": {},
   "outputs": [
    {
     "name": "stderr",
     "output_type": "stream",
     "text": [
      "C:\\Users\\Andrey\\AppData\\Local\\Temp\\ipykernel_11140\\1659325476.py:2: FutureWarning: Treating datetime data as categorical rather than numeric in `.describe` is deprecated and will be removed in a future version of pandas. Specify `datetime_is_numeric=True` to silence this warning and adopt the future behavior now.\n",
      "  logs['time'].describe()\n"
     ]
    },
    {
     "data": {
      "text/plain": [
       "count                  243713\n",
       "unique                 176654\n",
       "top       2019-08-01 14:40:35\n",
       "freq                        9\n",
       "first     2019-07-25 04:43:36\n",
       "last      2019-08-07 21:15:17\n",
       "Name: time, dtype: object"
      ]
     },
     "execution_count": 23,
     "metadata": {},
     "output_type": "execute_result"
    }
   ],
   "source": [
    "#Проверяем данные с датой и временем\n",
    "logs['time'].describe()"
   ]
  },
  {
   "cell_type": "markdown",
   "id": "10ed92d2",
   "metadata": {},
   "source": [
    "Мы располагаем данными за период с 2019-07-25 по 2019-08-07. Минимальная дата: 2019-07-25, Максимальная дата: 2019-08-07."
   ]
  },
  {
   "cell_type": "code",
   "execution_count": 24,
   "id": "34eced3f",
   "metadata": {},
   "outputs": [
    {
     "data": {
      "image/png": "[encoded data removed]",
      "text/plain": [
       "<Figure size 2000x1000 with 1 Axes>"
      ]
     },
     "metadata": {},
     "output_type": "display_data"
    }
   ],
   "source": [
    "#Посмотрим на графике распределение логов по дате и времени.\n",
    "#Распределение логов по дате.\n",
    "plt.figure(figsize=(20,10))\n",
    "logs['time'].hist()\n",
    "plt.title('Распределение логов по дате')\n",
    "plt.ylabel('Логи')\n",
    "plt.xlabel('Дата')\n",
    "plt.show()"
   ]
  },
  {
   "cell_type": "markdown",
   "id": "3ff7f654",
   "metadata": {},
   "source": [
    "Логов за июль очень мало, предположим, что это события из прошлого. Оставим только данные август."
   ]
  },
  {
   "cell_type": "code",
   "execution_count": 25,
   "id": "52409c04",
   "metadata": {},
   "outputs": [
    {
     "data": {
      "image/png": "[encoded data removed]",
      "text/plain": [
       "<Figure size 2000x1000 with 1 Axes>"
      ]
     },
     "metadata": {},
     "output_type": "display_data"
    }
   ],
   "source": [
    "#Распределение логов по времени.\n",
    "plt.figure(figsize=(20,10))\n",
    "logs['time'].dt.hour.hist(bins = 24)\n",
    "plt.title('Распределение логов по времени')\n",
    "plt.ylabel('Логи')\n",
    "plt.xlabel('Время')\n",
    "plt.xticks(range(0,24))\n",
    "plt.show()"
   ]
  },
  {
   "cell_type": "markdown",
   "id": "9c0fceb4",
   "metadata": {},
   "source": [
    "Ночью активность намного меньше чем днём."
   ]
  },
  {
   "cell_type": "code",
   "execution_count": 26,
   "id": "f2c56777",
   "metadata": {},
   "outputs": [
    {
     "name": "stdout",
     "output_type": "stream",
     "text": [
      "Было событий:  243713\n",
      "Было пользователей:  7551\n"
     ]
    }
   ],
   "source": [
    "#Оставим данный только за август и посмотрим потери.\n",
    "#Было\n",
    "logs_last = logs\n",
    "id_last = logs['id']\n",
    "print('Было событий: ', logs_last['event'].count())\n",
    "print('Было пользователей: ', id_last.nunique())"
   ]
  },
  {
   "cell_type": "code",
   "execution_count": 27,
   "id": "231e1489",
   "metadata": {},
   "outputs": [
    {
     "name": "stdout",
     "output_type": "stream",
     "text": [
      "Стало событий:  240887\n",
      "Стало пользователей:  7534\n"
     ]
    }
   ],
   "source": [
    "#Стало\n",
    "logs_new = logs.loc[logs['date'] > '2019-07-31']\n",
    "id_new = logs_new['id']\n",
    "print('Стало событий: ', logs_new['event'].count())\n",
    "print('Стало пользователей: ', id_new.nunique())"
   ]
  },
  {
   "cell_type": "code",
   "execution_count": 28,
   "id": "d4b1f55c",
   "metadata": {},
   "outputs": [
    {
     "name": "stdout",
     "output_type": "stream",
     "text": [
      "Разница событий:  2826\n",
      "Разница пользователей:  17\n",
      "Разница событий в %:  -1.159560630741897\n",
      "Разница пользователей в %:  -0.22513574361011784\n"
     ]
    }
   ],
   "source": [
    "#Разница\n",
    "print('Разница событий: ', logs_last['event'].count() - logs_new['event'].count())\n",
    "print('Разница пользователей: ',id_last.nunique() -  id_new.nunique())\n",
    "print('Разница событий в %: ', (((logs_new['event'].count() - logs_last['event'].count()) / logs_last['event'].count()) * 100))\n",
    "print('Разница пользователей в %: ',(((id_new.nunique() -  id_last.nunique()) / id_last.nunique()) * 100))"
   ]
  },
  {
   "cell_type": "markdown",
   "id": "fa9a19ea",
   "metadata": {},
   "source": [
    "Разница событий составляет 2826(1,16%), разница пользователей составляет 17(0.22%)."
   ]
  },
  {
   "cell_type": "code",
   "execution_count": 29,
   "id": "cd7a4ead",
   "metadata": {},
   "outputs": [
    {
     "data": {
      "text/plain": [
       "expid\n",
       "246    2484\n",
       "247    2513\n",
       "248    2537\n",
       "Name: id, dtype: int64"
      ]
     },
     "metadata": {},
     "output_type": "display_data"
    }
   ],
   "source": [
    "#Проверим пользователей по группам.\n",
    "display(logs_new.groupby('expid')['id'].nunique())"
   ]
  },
  {
   "cell_type": "markdown",
   "id": "2f330a76",
   "metadata": {},
   "source": [
    "В данном блоке был произведен анализ событий и пользователей в логе, так же анализ временных интервалов в ходе которых отбросили данные за июль. Выяснили, что основная активность пользователей днём."
   ]
  },
  {
   "cell_type": "markdown",
   "id": "456d1a50",
   "metadata": {},
   "source": [
    "### Изучаем воронку событий."
   ]
  },
  {
   "cell_type": "code",
   "execution_count": 30,
   "id": "38233c70",
   "metadata": {},
   "outputs": [
    {
     "name": "stdout",
     "output_type": "stream",
     "text": [
      "event\n",
      "MainScreenAppear           117328\n",
      "OffersScreenAppear          46333\n",
      "CartScreenAppear            42303\n",
      "PaymentScreenSuccessful     33918\n",
      "Tutorial                     1005\n",
      "Name: id, dtype: int64\n"
     ]
    }
   ],
   "source": [
    "#Смотрим частоту событий в логах.\n",
    "print(logs_new.groupby('event')['id'].count().sort_values(ascending = False))"
   ]
  },
  {
   "cell_type": "code",
   "execution_count": 31,
   "id": "5ca40f3a",
   "metadata": {},
   "outputs": [
    {
     "name": "stdout",
     "output_type": "stream",
     "text": [
      "                     event    id\n",
      "1         MainScreenAppear  7419\n",
      "2       OffersScreenAppear  4593\n",
      "0         CartScreenAppear  3734\n",
      "3  PaymentScreenSuccessful  3539\n",
      "4                 Tutorial   840\n"
     ]
    }
   ],
   "source": [
    "#Считаем сколько пользователей совершили каждое из этих событий.\n",
    "n = logs_new.groupby(['event'], as_index=False).agg({'id': 'nunique'}).sort_values(by = 'id', ascending = False)\n",
    "print(n)"
   ]
  },
  {
   "cell_type": "code",
   "execution_count": 32,
   "id": "3a885bcf",
   "metadata": {},
   "outputs": [
    {
     "name": "stdout",
     "output_type": "stream",
     "text": [
      "                     event    id     per\n",
      "1         MainScreenAppear  7419  98.47%\n",
      "2       OffersScreenAppear  4593  60.96%\n",
      "0         CartScreenAppear  3734  49.56%\n",
      "3  PaymentScreenSuccessful  3539  46.97%\n",
      "4                 Tutorial   840  11.15%\n"
     ]
    }
   ],
   "source": [
    "#В процентах\n",
    "n['per'] = (100 * n['id'] / logs_new['id'].nunique()).round(2).astype('str') + '%'\n",
    "print(n)"
   ]
  },
  {
   "cell_type": "markdown",
   "id": "92f9ac5f",
   "metadata": {},
   "source": [
    "События происходят в таком порядке:\n",
    "\n",
    "1. MainScreenAppear(главная страница)\n",
    "2. OffersScreenAppear(экран предложения)\n",
    "3. CartScreenAppear(корзина)\n",
    "4. PaymentScreenSuccessful(оплата)\n",
    "5. Tutorial(обучение)\n",
    "\n",
    "Всё выглядит логично и последовательно кроме обучения, обучение можно проходить вне зависимости от желания что либо купить и обойти все остальные пункты. Так же чтобы купить товар необязательно проходить обучение, при этом остальные пункты при покупке товара будут задействованы."
   ]
  },
  {
   "cell_type": "code",
   "execution_count": 33,
   "id": "6b0fab50",
   "metadata": {},
   "outputs": [
    {
     "name": "stdout",
     "output_type": "stream",
     "text": [
      "                     event    id     per\n",
      "1         MainScreenAppear  7419  98.47%\n",
      "2       OffersScreenAppear  4593  60.96%\n",
      "0         CartScreenAppear  3734  49.56%\n",
      "3  PaymentScreenSuccessful  3539  46.97%\n"
     ]
    }
   ],
   "source": [
    "n = n.loc[n['event'] != 'Tutorial']\n",
    "print(n)"
   ]
  },
  {
   "cell_type": "code",
   "execution_count": 34,
   "id": "456e4e80",
   "metadata": {},
   "outputs": [
    {
     "name": "stdout",
     "output_type": "stream",
     "text": [
      "Всего посетителей: 100.0%\n",
      "Посмотрели предложения от посетивших главнуцю страницу: 61.91%\n",
      "Перешли в корзину от посмотревших товар: 81.3%\n",
      "Оплатили товар от перешедших в корзину: 94.78%\n"
     ]
    }
   ],
   "source": [
    "#Считаем какая доля пользователей перейдет на следующий шаг воронки.\n",
    "res = logs_new.pivot_table(columns = 'event', values = 'id', aggfunc = 'nunique')\n",
    "print('Всего посетителей:', (100 * res['MainScreenAppear'].sum() / res['MainScreenAppear'].sum()).round(2).astype('str') + '%')\n",
    "print('Посмотрели предложения от посетивших главнуцю страницу:', (100 * res['OffersScreenAppear'].sum() / res['MainScreenAppear'].sum()).round(2).astype('str') + '%')\n",
    "print('Перешли в корзину от посмотревших товар:', (100 * res['CartScreenAppear'].sum() / res['OffersScreenAppear'].sum()).round(2).astype('str') + '%')\n",
    "print('Оплатили товар от перешедших в корзину:', (100 * res['PaymentScreenSuccessful'].sum() / res['CartScreenAppear'].sum()).round(2).astype('str') + '%')"
   ]
  },
  {
   "cell_type": "markdown",
   "id": "fef49f04",
   "metadata": {},
   "source": [
    "Больше всего пользователей теряется после первого шага(38.09%), начиная со второго пункта почти все пользователи продолжают свой путь по следующим шагам."
   ]
  },
  {
   "cell_type": "markdown",
   "id": "487d2983",
   "metadata": {},
   "source": [
    "От первого события до оплаты доходит 47%."
   ]
  },
  {
   "cell_type": "markdown",
   "id": "729c634f",
   "metadata": {},
   "source": [
    "В данном блоке мы провели анализ воронки событий. Выяснили, что можем не учитывать событие Tutorial, проверили частоту событий в логах и пользователях, а так же посмотрели на процентное соотношение перехода пользователей по шагам и от числа на предыдущем."
   ]
  },
  {
   "cell_type": "markdown",
   "id": "240a632e",
   "metadata": {},
   "source": [
    "### Изучаем результаты эксперимента"
   ]
  },
  {
   "cell_type": "code",
   "execution_count": 35,
   "id": "4db57d56",
   "metadata": {},
   "outputs": [
    {
     "name": "stdout",
     "output_type": "stream",
     "text": [
      "expid\n",
      "246    2484\n",
      "247    2513\n",
      "248    2537\n",
      "Name: id, dtype: int64\n"
     ]
    }
   ],
   "source": [
    "#Сколько пользователей в эксперементальных группах.\n",
    "print(logs_new.groupby('expid')['id'].nunique())"
   ]
  },
  {
   "cell_type": "code",
   "execution_count": 36,
   "id": "031de8a0",
   "metadata": {},
   "outputs": [
    {
     "name": "stdout",
     "output_type": "stream",
     "text": [
      "Группа 246\n",
      "Всего посетителей: 100.0%\n",
      "Посмотрели предложения от посетивших главнуцю страницу: 62.94%\n",
      "Перешли в корзину от посмотревших товар: 82.1%\n",
      "Оплатили товар от перешедших в корзину: 94.79%\n"
     ]
    }
   ],
   "source": [
    "#Воронка событий в разрезе групп.\n",
    "#Считаем какая доля пользователей перейдет на следующий шаг воронки.\n",
    "res_246 = logs_new.loc[logs_new['expid'] == 246]\n",
    "res_246 = res_246.pivot_table(index = 'expid', columns = 'event', values = 'id', aggfunc = 'nunique')\n",
    "print('Группа 246')\n",
    "print('Всего посетителей:', (100 * res_246['MainScreenAppear'].sum() / res_246['MainScreenAppear'].sum()).round(2).astype('str') + '%')\n",
    "print('Посмотрели предложения от посетивших главнуцю страницу:', (100 * res_246['OffersScreenAppear'].sum() / res_246['MainScreenAppear'].sum()).round(2).astype('str') + '%')\n",
    "print('Перешли в корзину от посмотревших товар:', (100 * res_246['CartScreenAppear'].sum() / res_246['OffersScreenAppear'].sum()).round(2).astype('str') + '%')\n",
    "print('Оплатили товар от перешедших в корзину:', (100 * res_246['PaymentScreenSuccessful'].sum() / res_246['CartScreenAppear'].sum()).round(2).astype('str') + '%')\n"
   ]
  },
  {
   "cell_type": "code",
   "execution_count": 37,
   "id": "c49c3ae8",
   "metadata": {},
   "outputs": [
    {
     "name": "stdout",
     "output_type": "stream",
     "text": [
      "event  CartScreenAppear  MainScreenAppear  OffersScreenAppear  \\\n",
      "expid                                                           \n",
      "246                1266              2450                1542   \n",
      "\n",
      "event  PaymentScreenSuccessful  Tutorial  \n",
      "expid                                     \n",
      "246                       1200       278  \n"
     ]
    }
   ],
   "source": [
    "#Считаем сколько пользователей совершили каждое из этих событий.\n",
    "print(res_246)"
   ]
  },
  {
   "cell_type": "code",
   "execution_count": 38,
   "id": "1b5046d3",
   "metadata": {},
   "outputs": [
    {
     "name": "stdout",
     "output_type": "stream",
     "text": [
      "Группа 247\n",
      "Всего посетителей: 100.0%\n",
      "Посмотрели предложения от посетивших главнуцю страницу: 61.39%\n",
      "Перешли в корзину от посмотревших товар: 81.45%\n",
      "Оплатили товар от перешедших в корзину: 93.54%\n"
     ]
    }
   ],
   "source": [
    "#Считаем какая доля пользователей перейдет на следующий шаг воронки.\n",
    "res_247 = logs_new.loc[logs_new['expid'] == 247]\n",
    "res_247 = res_247.pivot_table(index = 'expid', columns = 'event', values = 'id', aggfunc = 'nunique')\n",
    "print('Группа 247')\n",
    "print('Всего посетителей:', (100 * res_247['MainScreenAppear'].sum() / res_247['MainScreenAppear'].sum()).round(2).astype('str') + '%')\n",
    "print('Посмотрели предложения от посетивших главнуцю страницу:', (100 * res_247['OffersScreenAppear'].sum() / res_247['MainScreenAppear'].sum()).round(2).astype('str') + '%')\n",
    "print('Перешли в корзину от посмотревших товар:', (100 * res_247['CartScreenAppear'].sum() / res_247['OffersScreenAppear'].sum()).round(2).astype('str') + '%')\n",
    "print('Оплатили товар от перешедших в корзину:', (100 * res_247['PaymentScreenSuccessful'].sum() / res_247['CartScreenAppear'].sum()).round(2).astype('str') + '%')"
   ]
  },
  {
   "cell_type": "code",
   "execution_count": 39,
   "id": "9b046606",
   "metadata": {},
   "outputs": [
    {
     "name": "stdout",
     "output_type": "stream",
     "text": [
      "event  CartScreenAppear  MainScreenAppear  OffersScreenAppear  \\\n",
      "expid                                                           \n",
      "247                1238              2476                1520   \n",
      "\n",
      "event  PaymentScreenSuccessful  Tutorial  \n",
      "expid                                     \n",
      "247                       1158       283  \n"
     ]
    }
   ],
   "source": [
    "#Считаем сколько пользователей совершили каждое из этих событий.\n",
    "print(res_247)"
   ]
  },
  {
   "cell_type": "code",
   "execution_count": 40,
   "id": "4c0ded5f",
   "metadata": {},
   "outputs": [
    {
     "name": "stdout",
     "output_type": "stream",
     "text": [
      "Группа 248\n",
      "Всего посетителей: 100.0%\n",
      "Посмотрели предложения от посетивших главнуцю страницу: 61.41%\n",
      "Перешли в корзину от посмотревших товар: 80.34%\n",
      "Оплатили товар от перешедших в корзину: 96.02%\n"
     ]
    }
   ],
   "source": [
    "res_248 = logs_new.loc[logs_new['expid'] == 248]\n",
    "res_248 = res_248.pivot_table(index = 'expid', columns = 'event', values = 'id', aggfunc = 'nunique')\n",
    "print('Группа 248')\n",
    "print('Всего посетителей:', (100 * res_248['MainScreenAppear'].sum() / res_248['MainScreenAppear'].sum()).round(2).astype('str') + '%')\n",
    "print('Посмотрели предложения от посетивших главнуцю страницу:', (100 * res_248['OffersScreenAppear'].sum() / res_248['MainScreenAppear'].sum()).round(2).astype('str') + '%')\n",
    "print('Перешли в корзину от посмотревших товар:', (100 * res_248['CartScreenAppear'].sum() / res_248['OffersScreenAppear'].sum()).round(2).astype('str') + '%')\n",
    "print('Оплатили товар от перешедших в корзину:', (100 * res_248['PaymentScreenSuccessful'].sum() / res_248['CartScreenAppear'].sum()).round(2).astype('str') + '%')"
   ]
  },
  {
   "cell_type": "code",
   "execution_count": 41,
   "id": "3f3e11f8",
   "metadata": {},
   "outputs": [
    {
     "name": "stdout",
     "output_type": "stream",
     "text": [
      "event  CartScreenAppear  MainScreenAppear  OffersScreenAppear  \\\n",
      "expid                                                           \n",
      "248                1230              2493                1531   \n",
      "\n",
      "event  PaymentScreenSuccessful  Tutorial  \n",
      "expid                                     \n",
      "248                       1181       279  \n"
     ]
    }
   ],
   "source": [
    "#Считаем сколько пользователей совершили каждое из этих событий.\n",
    "print(res_248)"
   ]
  },
  {
   "cell_type": "code",
   "execution_count": 42,
   "id": "63435813",
   "metadata": {},
   "outputs": [
    {
     "data": {
      "text/html": [
       "<div>\n",
       "<style scoped>\n",
       "    .dataframe tbody tr th:only-of-type {\n",
       "        vertical-align: middle;\n",
       "    }\n",
       "\n",
       "    .dataframe tbody tr th {\n",
       "        vertical-align: top;\n",
       "    }\n",
       "\n",
       "    .dataframe thead th {\n",
       "        text-align: right;\n",
       "    }\n",
       "</style>\n",
       "<table border=\"1\" class=\"dataframe\">\n",
       "  <thead>\n",
       "    <tr style=\"text-align: right;\">\n",
       "      <th>expid</th>\n",
       "      <th>246</th>\n",
       "      <th>247</th>\n",
       "      <th>248</th>\n",
       "    </tr>\n",
       "    <tr>\n",
       "      <th>event</th>\n",
       "      <th></th>\n",
       "      <th></th>\n",
       "      <th></th>\n",
       "    </tr>\n",
       "  </thead>\n",
       "  <tbody>\n",
       "    <tr>\n",
       "      <th>CartScreenAppear</th>\n",
       "      <td>1266</td>\n",
       "      <td>1238</td>\n",
       "      <td>1230</td>\n",
       "    </tr>\n",
       "    <tr>\n",
       "      <th>MainScreenAppear</th>\n",
       "      <td>2450</td>\n",
       "      <td>2476</td>\n",
       "      <td>2493</td>\n",
       "    </tr>\n",
       "    <tr>\n",
       "      <th>OffersScreenAppear</th>\n",
       "      <td>1542</td>\n",
       "      <td>1520</td>\n",
       "      <td>1531</td>\n",
       "    </tr>\n",
       "    <tr>\n",
       "      <th>PaymentScreenSuccessful</th>\n",
       "      <td>1200</td>\n",
       "      <td>1158</td>\n",
       "      <td>1181</td>\n",
       "    </tr>\n",
       "    <tr>\n",
       "      <th>Tutorial</th>\n",
       "      <td>278</td>\n",
       "      <td>283</td>\n",
       "      <td>279</td>\n",
       "    </tr>\n",
       "  </tbody>\n",
       "</table>\n",
       "</div>"
      ],
      "text/plain": [
       "expid                     246   247   248\n",
       "event                                    \n",
       "CartScreenAppear         1266  1238  1230\n",
       "MainScreenAppear         2450  2476  2493\n",
       "OffersScreenAppear       1542  1520  1531\n",
       "PaymentScreenSuccessful  1200  1158  1181\n",
       "Tutorial                  278   283   279"
      ]
     },
     "metadata": {},
     "output_type": "display_data"
    }
   ],
   "source": [
    "#Посмотрим в общей таблице и построим график.\n",
    "grafic = logs_new.pivot_table(index = 'event', columns = 'expid', values = 'id', aggfunc = 'nunique')\n",
    "display(grafic)"
   ]
  },
  {
   "cell_type": "code",
   "execution_count": 43,
   "id": "c08e506c",
   "metadata": {},
   "outputs": [
    {
     "data": {
      "image/png": "[encoded data removed]",
      "text/plain": [
       "<Figure size 2000x1000 with 1 Axes>"
      ]
     },
     "metadata": {},
     "output_type": "display_data"
    }
   ],
   "source": [
    "plt.rcParams[\"figure.figsize\"] = (20,10)\n",
    "grafic.plot()\n",
    "plt.title('Количество событий пользователей по группам')\n",
    "plt.ylabel('Событие')\n",
    "plt.xlabel('Количество пользователей')\n",
    "plt.legend()\n",
    "plt.show()"
   ]
  },
  {
   "cell_type": "markdown",
   "id": "70e6d249",
   "metadata": {},
   "source": [
    "На цифрах и графике группы очень похожи, почти идентичны."
   ]
  },
  {
   "cell_type": "code",
   "execution_count": 44,
   "id": "a2d33fcf",
   "metadata": {},
   "outputs": [],
   "source": [
    "#Проверяем находят ли статистические критерии разницу между выборками 246 и 247.\n",
    "#Используем Z критерий который определяет различаются ли два средних значения генеральных совокупностей.\n",
    "def fisher(df1, df2, event):\n",
    "    alpha = .05\n",
    "    n_users = np.array([df1['id'].nunique(), \n",
    "                        df2['id'].nunique()])\n",
    "    \n",
    "    success = np.array([df1[df1['event'] == event]['id'].nunique(), \n",
    "                        df2[df2['event'] == event]['id'].nunique()])\n",
    "\n",
    "    p1 = success[0]/n_users[0]\n",
    "    p2 = success[1]/n_users[1]\n",
    "\n",
    "    p_combined = (success[0] + success[1]) / (n_users[0] + n_users[1])\n",
    "\n",
    "    difference = p1 - p2 \n",
    "    \n",
    "    z_value = difference /  np.sqrt(p_combined * (1 - p_combined) * (1/n_users[0] + 1/n_users[1]))\n",
    "\n",
    "    distr = st.norm(0, 1)  \n",
    "\n",
    "    p_value = (1 - distr.cdf(abs(z_value))) * 2\n",
    "    \n",
    "    print('Событие:', event)\n",
    "    print('p-значение: ', p_value)\n",
    "\n",
    "    if p_value < alpha:\n",
    "        print('Отвергаем нулевую гипотезу: разница есть')\n",
    "    else:\n",
    "        print('Не получилось отвергнуть нулевую гипотезу, разницы нет ')"
   ]
  },
  {
   "cell_type": "markdown",
   "id": "94f4f6e8",
   "metadata": {},
   "source": [
    "Сформулируем гипотезу так:\n",
    "- Нулевая: Доли посетителей одинаковы.\n",
    "- Альтернативная: Доли посетителей отличаются."
   ]
  },
  {
   "cell_type": "code",
   "execution_count": 45,
   "id": "94d7fe59",
   "metadata": {},
   "outputs": [
    {
     "name": "stdout",
     "output_type": "stream",
     "text": [
      "Событие: MainScreenAppear\n",
      "p-значение:  0.7570597232046099\n",
      "Не получилось отвергнуть нулевую гипотезу, разницы нет \n",
      "\n",
      "Событие: OffersScreenAppear\n",
      "p-значение:  0.2480954578522181\n",
      "Не получилось отвергнуть нулевую гипотезу, разницы нет \n",
      "\n",
      "Событие: CartScreenAppear\n",
      "p-значение:  0.22883372237997213\n",
      "Не получилось отвергнуть нулевую гипотезу, разницы нет \n",
      "\n",
      "Событие: PaymentScreenSuccessful\n",
      "p-значение:  0.11456679313141849\n",
      "Не получилось отвергнуть нулевую гипотезу, разницы нет \n",
      "\n"
     ]
    }
   ],
   "source": [
    "for i in n['event'].unique():\n",
    "    fisher(logs_new[logs_new['expid'] == 246], logs_new[logs_new['expid'] == 247], i)\n",
    "    print()"
   ]
  },
  {
   "cell_type": "markdown",
   "id": "ab7158f7",
   "metadata": {},
   "source": [
    "Можем подтвердить нулевую гипотезу. А/А тест показал, что у событий нет отличий, можем приступать к А/В тестированию."
   ]
  },
  {
   "cell_type": "code",
   "execution_count": 46,
   "id": "a12f1f43",
   "metadata": {},
   "outputs": [
    {
     "name": "stdout",
     "output_type": "stream",
     "text": [
      "Событие: MainScreenAppear\n",
      "p-значение:  0.2949721933554552\n",
      "Не получилось отвергнуть нулевую гипотезу, разницы нет \n",
      "\n",
      "Событие: OffersScreenAppear\n",
      "p-значение:  0.20836205402738917\n",
      "Не получилось отвергнуть нулевую гипотезу, разницы нет \n",
      "\n",
      "Событие: CartScreenAppear\n",
      "p-значение:  0.07842923237520116\n",
      "Не получилось отвергнуть нулевую гипотезу, разницы нет \n",
      "\n",
      "Событие: PaymentScreenSuccessful\n",
      "p-значение:  0.2122553275697796\n",
      "Не получилось отвергнуть нулевую гипотезу, разницы нет \n",
      "\n"
     ]
    }
   ],
   "source": [
    "#Проверяем находят ли статистические критерии разницу между выборками 246 и 248.\n",
    "for i in n['event'].unique():\n",
    "    fisher(logs_new[logs_new['expid'] == 246], logs_new[logs_new['expid'] == 248], i)\n",
    "    print()"
   ]
  },
  {
   "cell_type": "markdown",
   "id": "2d4910b8",
   "metadata": {},
   "source": [
    "Так же подтверждаем нулевую гипотезу."
   ]
  },
  {
   "cell_type": "code",
   "execution_count": 47,
   "id": "b633b3af",
   "metadata": {},
   "outputs": [
    {
     "name": "stdout",
     "output_type": "stream",
     "text": [
      "Событие: MainScreenAppear\n",
      "p-значение:  0.4587053616621515\n",
      "Не получилось отвергнуть нулевую гипотезу, разницы нет \n",
      "\n",
      "Событие: OffersScreenAppear\n",
      "p-значение:  0.9197817830592261\n",
      "Не получилось отвергнуть нулевую гипотезу, разницы нет \n",
      "\n",
      "Событие: CartScreenAppear\n",
      "p-значение:  0.5786197879539783\n",
      "Не получилось отвергнуть нулевую гипотезу, разницы нет \n",
      "\n",
      "Событие: PaymentScreenSuccessful\n",
      "p-значение:  0.7373415053803964\n",
      "Не получилось отвергнуть нулевую гипотезу, разницы нет \n",
      "\n"
     ]
    }
   ],
   "source": [
    "#Проверяем находят ли статистические критерии разницу между выборками 247 и 248.\n",
    "for i in n['event'].unique():\n",
    "    fisher(logs_new[logs_new['expid'] == 247], logs_new[logs_new['expid'] == 248], i)\n",
    "    print()"
   ]
  },
  {
   "cell_type": "markdown",
   "id": "c1b0b9a4",
   "metadata": {},
   "source": [
    "В этом случае тоже подтверждаем нулевую гипотезу."
   ]
  },
  {
   "cell_type": "code",
   "execution_count": 48,
   "id": "ccfb92fd",
   "metadata": {},
   "outputs": [
    {
     "name": "stdout",
     "output_type": "stream",
     "text": [
      "Событие: MainScreenAppear\n",
      "p-значение:  0.29424526837179577\n",
      "Не получилось отвергнуть нулевую гипотезу, разницы нет \n",
      "\n",
      "Событие: OffersScreenAppear\n",
      "p-значение:  0.43425549655188256\n",
      "Не получилось отвергнуть нулевую гипотезу, разницы нет \n",
      "\n",
      "Событие: CartScreenAppear\n",
      "p-значение:  0.18175875284404386\n",
      "Не получилось отвергнуть нулевую гипотезу, разницы нет \n",
      "\n",
      "Событие: PaymentScreenSuccessful\n",
      "p-значение:  0.6004294282308704\n",
      "Не получилось отвергнуть нулевую гипотезу, разницы нет \n",
      "\n"
     ]
    }
   ],
   "source": [
    "#Проверяем находят ли статистические критерии разницу между контрольной и эксперементальной группой.\n",
    "for i in n['event'].unique():\n",
    "    fisher(logs_new[logs_new['expid'] != 248], logs_new[logs_new['expid'] == 248], i)\n",
    "    print()"
   ]
  },
  {
   "cell_type": "markdown",
   "id": "6d36baea",
   "metadata": {},
   "source": [
    "В этом случае тоже подтверждаем нулевую гипотезу."
   ]
  },
  {
   "cell_type": "markdown",
   "id": "2de61a61",
   "metadata": {},
   "source": [
    "Предположу, что при уровне значимости 0.05 может возникнуть эффект множественных сравнений, уровень = 0.1 взять не можем так как каждый десятый раз можем получить ложный результат, у нас больше тестов. Есть несколько методов решений данной задачи: Поправка Бонферрони, Метод Холма (поправка Холма — Бонферрони), Метод Шидака, Метод Шидака-Холма, Метод Беньямини — Хохберга. Возьмем метод Бонферрони, тогда:\n",
    "для А/А теста = alpha/4. Для А/В теста = alpha/12."
   ]
  },
  {
   "cell_type": "code",
   "execution_count": 49,
   "id": "9db064a4",
   "metadata": {},
   "outputs": [],
   "source": [
    "def bonferroni(df1, df2, event, alpha, k):\n",
    "    b = alpha / k\n",
    "    n_users = np.array([df1['id'].nunique(), \n",
    "                        df2['id'].nunique()])\n",
    "    \n",
    "    success = np.array([df1[df1['event'] == event]['id'].nunique(), \n",
    "                        df2[df2['event'] == event]['id'].nunique()])\n",
    "\n",
    "    p1 = success[0]/n_users[0]\n",
    "    p2 = success[1]/n_users[1]\n",
    "\n",
    "    p_combined = (success[0] + success[1]) / (n_users[0] + n_users[1])\n",
    "\n",
    "    difference = p1 - p2 \n",
    "    \n",
    "    z_value = difference /  np.sqrt(p_combined * (1 - p_combined) * (1/n_users[0] + 1/n_users[1]))\n",
    "\n",
    "    distr = st.norm(0, 1)  \n",
    "\n",
    "    p_value = (1 - distr.cdf(abs(z_value))) * 2\n",
    "    \n",
    "    print('Событие:', event)\n",
    "    print('p-значение: ', p_value)\n",
    "\n",
    "    if p_value < b:\n",
    "        print('Отвергаем нулевую гипотезу: разница есть')\n",
    "    else:\n",
    "        print('Не получилось отвергнуть нулевую гипотезу, разницы нет ')"
   ]
  },
  {
   "cell_type": "code",
   "execution_count": 50,
   "id": "04e27cd4",
   "metadata": {},
   "outputs": [
    {
     "name": "stdout",
     "output_type": "stream",
     "text": [
      "Событие: MainScreenAppear\n",
      "p-значение:  0.7570597232046099\n",
      "Не получилось отвергнуть нулевую гипотезу, разницы нет \n",
      "\n",
      "Событие: OffersScreenAppear\n",
      "p-значение:  0.2480954578522181\n",
      "Не получилось отвергнуть нулевую гипотезу, разницы нет \n",
      "\n",
      "Событие: CartScreenAppear\n",
      "p-значение:  0.22883372237997213\n",
      "Не получилось отвергнуть нулевую гипотезу, разницы нет \n",
      "\n",
      "Событие: PaymentScreenSuccessful\n",
      "p-значение:  0.11456679313141849\n",
      "Не получилось отвергнуть нулевую гипотезу, разницы нет \n",
      "\n"
     ]
    }
   ],
   "source": [
    "#Контрольные группы 246 и 247\n",
    "for i in n['event'].unique():\n",
    "    bonferroni(logs_new[logs_new['expid'] == 246], logs_new[logs_new['expid'] == 247], i, .05, 4)\n",
    "    print()"
   ]
  },
  {
   "cell_type": "code",
   "execution_count": 51,
   "id": "a89c85a3",
   "metadata": {},
   "outputs": [
    {
     "name": "stdout",
     "output_type": "stream",
     "text": [
      "Событие: MainScreenAppear\n",
      "p-значение:  0.2949721933554552\n",
      "Не получилось отвергнуть нулевую гипотезу, разницы нет \n",
      "\n",
      "Событие: OffersScreenAppear\n",
      "p-значение:  0.20836205402738917\n",
      "Не получилось отвергнуть нулевую гипотезу, разницы нет \n",
      "\n",
      "Событие: CartScreenAppear\n",
      "p-значение:  0.07842923237520116\n",
      "Не получилось отвергнуть нулевую гипотезу, разницы нет \n",
      "\n",
      "Событие: PaymentScreenSuccessful\n",
      "p-значение:  0.2122553275697796\n",
      "Не получилось отвергнуть нулевую гипотезу, разницы нет \n",
      "\n"
     ]
    }
   ],
   "source": [
    "#246 и 248\n",
    "for i in n['event'].unique():\n",
    "    bonferroni(logs_new[logs_new['expid'] == 246], logs_new[logs_new['expid'] == 248], i, .05, 12)\n",
    "    print()"
   ]
  },
  {
   "cell_type": "code",
   "execution_count": 52,
   "id": "2278b74e",
   "metadata": {},
   "outputs": [
    {
     "name": "stdout",
     "output_type": "stream",
     "text": [
      "Событие: MainScreenAppear\n",
      "p-значение:  0.4587053616621515\n",
      "Не получилось отвергнуть нулевую гипотезу, разницы нет \n",
      "\n",
      "Событие: OffersScreenAppear\n",
      "p-значение:  0.9197817830592261\n",
      "Не получилось отвергнуть нулевую гипотезу, разницы нет \n",
      "\n",
      "Событие: CartScreenAppear\n",
      "p-значение:  0.5786197879539783\n",
      "Не получилось отвергнуть нулевую гипотезу, разницы нет \n",
      "\n",
      "Событие: PaymentScreenSuccessful\n",
      "p-значение:  0.7373415053803964\n",
      "Не получилось отвергнуть нулевую гипотезу, разницы нет \n",
      "\n"
     ]
    }
   ],
   "source": [
    "#247 и 248\n",
    "for i in n['event'].unique():\n",
    "    bonferroni(logs_new[logs_new['expid'] == 247], logs_new[logs_new['expid'] == 248], i, .05, 12)\n",
    "    print()"
   ]
  },
  {
   "cell_type": "code",
   "execution_count": 53,
   "id": "42843fe3",
   "metadata": {},
   "outputs": [
    {
     "name": "stdout",
     "output_type": "stream",
     "text": [
      "Событие: MainScreenAppear\n",
      "p-значение:  0.29424526837179577\n",
      "Не получилось отвергнуть нулевую гипотезу, разницы нет \n",
      "\n",
      "Событие: OffersScreenAppear\n",
      "p-значение:  0.43425549655188256\n",
      "Не получилось отвергнуть нулевую гипотезу, разницы нет \n",
      "\n",
      "Событие: CartScreenAppear\n",
      "p-значение:  0.18175875284404386\n",
      "Не получилось отвергнуть нулевую гипотезу, разницы нет \n",
      "\n",
      "Событие: PaymentScreenSuccessful\n",
      "p-значение:  0.6004294282308704\n",
      "Не получилось отвергнуть нулевую гипотезу, разницы нет \n",
      "\n"
     ]
    }
   ],
   "source": [
    "#Контрольные и эксперементальная.\n",
    "for i in n['event'].unique():\n",
    "    bonferroni(logs_new[logs_new['expid'] != 248], logs_new[logs_new['expid'] == 248], i, .05, 12)\n",
    "    print()"
   ]
  },
  {
   "cell_type": "markdown",
   "id": "6265eb74",
   "metadata": {},
   "source": [
    "Результаты идентичны. Изменение шрифтов не повлияло на пользователей."
   ]
  },
  {
   "cell_type": "markdown",
   "id": "1dd505a4",
   "metadata": {},
   "source": [
    "### Вывод"
   ]
  },
  {
   "cell_type": "markdown",
   "id": "257889c5",
   "metadata": {},
   "source": [
    "На основании проделанной работы можем сделать следующие выводы:\n",
    "\n",
    "1. Вне зависимости от выборки пользователи совершали идентичные события:\n",
    "- Событие \\ выборка-------------------246-----247------248\n",
    "- CartScreenAppear------------------------1266----1238----1230\n",
    "- MainScreenAppear------------------------2450----2476----2493\n",
    "- OffersScreenAppear----------------------1542----1520----1531\n",
    "- PaymentScreenSucce----------------------1200----1158----1181\n",
    "\n",
    "\n",
    "2. Можем спокойно исключить Tutorial по причине отсутсвия взаимодействия с другими событиями.\n",
    "\n",
    "3. Пользователи активны в основном днём.\n",
    "\n",
    "4. От первого события до оплаты доходят 47% пользователей.\n",
    "\n",
    "5. Доля пользователей сделавшие следующий шаг от предыдущего:\n",
    "- Всего посетителей: 100.0%\n",
    "- Посмотрели предложения от посетивших главнуцю страницу: 61.91%\n",
    "- Перешли в корзину от посмотревших товар: 81.3%\n",
    "- Оплатили товар от перешедших в корзину: 94.78%.\n",
    "\n",
    "6. В ходе А/А и А/В тестов потвердилась нулевая гипотеза в ходе которой мы выяснили, что изменение шрифтов никак не повлияло на пользователей."
   ]
  }
 ],
 "metadata": {
  "kernelspec": {
   "display_name": "Python 3 (ipykernel)",
   "language": "python",
   "name": "python3"
  },
  "language_info": {
   "codemirror_mode": {
    "name": "ipython",
    "version": 3
   },
   "file_extension": ".py",
   "mimetype": "text/x-python",
   "name": "python",
   "nbconvert_exporter": "python",
   "pygments_lexer": "ipython3",
   "version": "3.10.9"
  }
 },
 "nbformat": 4,
 "nbformat_minor": 5
}
